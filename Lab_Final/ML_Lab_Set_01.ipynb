{
 "cells": [
  {
   "cell_type": "code",
   "execution_count": 3,
   "id": "86fa5ee3-e297-465a-bb9f-fe3171006f41",
   "metadata": {},
   "outputs": [],
   "source": [
    "import os\n",
    "import skimage\n",
    "from skimage import transform\n",
    "from glob import glob\n",
    "import pandas as pd\n",
    "import numpy as np\n",
    "from PIL import Image\n",
    "from skimage import io, color\n",
    "from skimage.transform import *\n",
    "from sklearn import metrics\n",
    "from sklearn.model_selection import train_test_split\n",
    "from keras.utils import to_categorical\n",
    "import tensorflow as tf\n",
    "from tensorflow import keras\n",
    "from tensorflow.keras.preprocessing import image\n",
    "from tensorflow.keras.models import Sequential\n",
    "from tensorflow.keras.layers import Dense, Flatten, Conv2D, Dropout, MaxPooling2D"
   ]
  },
  {
   "cell_type": "markdown",
   "id": "e228caf9-f0b2-46f9-a2b6-62682d3d3324",
   "metadata": {},
   "source": [
    "## Data"
   ]
  },
  {
   "cell_type": "code",
   "execution_count": 4,
   "id": "0d54804a-4138-4ca2-a3c0-56d52d895f4f",
   "metadata": {},
   "outputs": [],
   "source": [
    "disease_data = []\n",
    "disease_class = []"
   ]
  },
  {
   "cell_type": "code",
   "execution_count": 5,
   "id": "ccf8e819-1f2f-48cb-85b3-82d2f7d9b2b6",
   "metadata": {
    "tags": []
   },
   "outputs": [],
   "source": [
    "def read_data(filepath, label):\n",
    "    all_images = glob(filepath)\n",
    "    print(len(all_images))\n",
    "    for item in all_images:\n",
    "        disease_class.append(label)\n",
    "        image = skimage.io.imread(item)\n",
    "        image = color.gray2rgb(image)\n",
    "        image = skimage.transform.resize(image=image, output_shape=(64,64))\n",
    "        disease_data.append(np.array(image))"
   ]
  },
  {
   "cell_type": "code",
   "execution_count": 7,
   "id": "4bcc69fd-3e31-436c-85d6-6be2dedb05c7",
   "metadata": {},
   "outputs": [
    {
     "name": "stdout",
     "output_type": "stream",
     "text": [
      "10000\n",
      "10000\n",
      "10000\n",
      "10000\n",
      "10000\n"
     ]
    }
   ],
   "source": [
    "class_paths = ['CNN_dataset/AbdomenCT/*.jpeg','CNN_dataset/ChestCT/*.jpeg','CNN_dataset/CXR/*.jpeg','CNN_dataset/Hand/*.jpeg','CNN_dataset/HeadCT/*.jpeg']\n",
    "\n",
    "for i in range(len(class_paths)):\n",
    "    read_data(class_paths[i], i)"
   ]
  },
  {
   "cell_type": "markdown",
   "id": "61497964-e585-4ec7-a513-c0474db14d16",
   "metadata": {},
   "source": [
    "### Train Test Split"
   ]
  },
  {
   "cell_type": "code",
   "execution_count": 8,
   "id": "7e06acf2-d99f-4470-a781-9e01679cb019",
   "metadata": {},
   "outputs": [],
   "source": [
    "X_train, X_test, Y_train, Y_test = train_test_split(disease_data, to_categorical(np.array(disease_class)), test_size = 0.20)"
   ]
  },
  {
   "cell_type": "markdown",
   "id": "73754449-a09d-4664-8d11-9f349191039c",
   "metadata": {},
   "source": [
    "## CNN"
   ]
  },
  {
   "cell_type": "code",
   "execution_count": 9,
   "id": "e06f798f-0723-4ee5-9279-fd611b6d4e79",
   "metadata": {},
   "outputs": [
    {
     "name": "stdout",
     "output_type": "stream",
     "text": [
      "Model: \"sequential\"\n",
      "_________________________________________________________________\n",
      " Layer (type)                Output Shape              Param #   \n",
      "=================================================================\n",
      " conv2d (Conv2D)             (None, 64, 64, 64)        832       \n",
      "                                                                 \n",
      " max_pooling2d (MaxPooling2D  (None, 32, 32, 64)       0         \n",
      " )                                                               \n",
      "                                                                 \n",
      " dropout (Dropout)           (None, 32, 32, 64)        0         \n",
      "                                                                 \n",
      " conv2d_1 (Conv2D)           (None, 32, 32, 32)        8224      \n",
      "                                                                 \n",
      " max_pooling2d_1 (MaxPooling  (None, 16, 16, 32)       0         \n",
      " 2D)                                                             \n",
      "                                                                 \n",
      " dropout_1 (Dropout)         (None, 16, 16, 32)        0         \n",
      "                                                                 \n",
      " flatten (Flatten)           (None, 8192)              0         \n",
      "                                                                 \n",
      " dense (Dense)               (None, 256)               2097408   \n",
      "                                                                 \n",
      " dropout_2 (Dropout)         (None, 256)               0         \n",
      "                                                                 \n",
      " dense_1 (Dense)             (None, 5)                 1285      \n",
      "                                                                 \n",
      "=================================================================\n",
      "Total params: 2,107,749\n",
      "Trainable params: 2,107,749\n",
      "Non-trainable params: 0\n",
      "_________________________________________________________________\n"
     ]
    }
   ],
   "source": [
    "model = tf.keras.Sequential()\n",
    "model.add(Conv2D(filters=64, kernel_size=(2,2),strides=(1, 1), padding='same', activation='relu', input_shape=(64,64,3))) \n",
    "model.add(MaxPooling2D(pool_size=(2,2)))\n",
    "model.add(Dropout(0.3))\n",
    "model.add(Conv2D(filters=32, kernel_size=(2,2),strides=(1, 1), padding='same', activation='relu'))\n",
    "model.add(MaxPooling2D(pool_size=(2,2)))\n",
    "model.add(Dropout(0.3))\n",
    "model.add(Flatten())\n",
    "model.add(Dense(256, activation='relu'))\n",
    "model.add(Dropout(0.5))\n",
    "model.add(Dense(5, activation='softmax'))\n",
    "model.summary()"
   ]
  },
  {
   "cell_type": "markdown",
   "id": "0c8160dd-541a-4dd1-8257-65284d822689",
   "metadata": {},
   "source": [
    "### Compile"
   ]
  },
  {
   "cell_type": "code",
   "execution_count": 10,
   "id": "60f0f75c-e795-4ce7-ae61-127d2e1e8ec3",
   "metadata": {},
   "outputs": [],
   "source": [
    "model.compile(loss='categorical_crossentropy', optimizer='adam', metrics=['accuracy'])"
   ]
  },
  {
   "cell_type": "markdown",
   "id": "5145e8fe-6791-4ad9-9f66-786cb0934b2e",
   "metadata": {},
   "source": [
    "### Fit"
   ]
  },
  {
   "cell_type": "code",
   "execution_count": 11,
   "id": "aabe44c7-09f1-4511-ae67-517acb97d220",
   "metadata": {},
   "outputs": [
    {
     "name": "stdout",
     "output_type": "stream",
     "text": [
      "Epoch 1/10\n",
      "563/563 [==============================] - 149s 260ms/step - loss: 0.0867 - accuracy: 0.9727 - val_loss: 0.0252 - val_accuracy: 0.9967\n",
      "Epoch 2/10\n",
      "563/563 [==============================] - 149s 266ms/step - loss: 0.0120 - accuracy: 0.9968 - val_loss: 0.0209 - val_accuracy: 0.9948\n",
      "Epoch 3/10\n",
      "563/563 [==============================] - 154s 274ms/step - loss: 0.0075 - accuracy: 0.9978 - val_loss: 0.0073 - val_accuracy: 0.9975\n",
      "Epoch 4/10\n",
      "563/563 [==============================] - 158s 280ms/step - loss: 0.0058 - accuracy: 0.9984 - val_loss: 0.0131 - val_accuracy: 0.9975\n",
      "Epoch 5/10\n",
      "563/563 [==============================] - 151s 269ms/step - loss: 0.0057 - accuracy: 0.9983 - val_loss: 0.0044 - val_accuracy: 0.9990\n",
      "Epoch 6/10\n",
      "563/563 [==============================] - 151s 268ms/step - loss: 0.0029 - accuracy: 0.9990 - val_loss: 0.0106 - val_accuracy: 0.9980\n",
      "Epoch 7/10\n",
      "563/563 [==============================] - 150s 267ms/step - loss: 0.0066 - accuracy: 0.9981 - val_loss: 0.0075 - val_accuracy: 0.9977\n",
      "Epoch 8/10\n",
      "563/563 [==============================] - 150s 266ms/step - loss: 0.0026 - accuracy: 0.9992 - val_loss: 0.0087 - val_accuracy: 0.9990\n",
      "Epoch 9/10\n",
      "563/563 [==============================] - 146s 260ms/step - loss: 0.0086 - accuracy: 0.9976 - val_loss: 0.0090 - val_accuracy: 0.9983\n",
      "Epoch 10/10\n",
      "563/563 [==============================] - 147s 261ms/step - loss: 0.0018 - accuracy: 0.9992 - val_loss: 0.0064 - val_accuracy: 0.9985\n"
     ]
    }
   ],
   "source": [
    "model_log = model.fit(np.array(X_train), Y_train,\n",
    "          batch_size=64,\n",
    "          epochs=10,\n",
    "          verbose=1,\n",
    "          validation_split=.1)"
   ]
  },
  {
   "cell_type": "markdown",
   "id": "7546b3bf-4ad1-47db-80f7-47448c918a1e",
   "metadata": {},
   "source": [
    "### Evaluate"
   ]
  },
  {
   "cell_type": "code",
   "execution_count": 12,
   "id": "ec5fe9dd-c6f4-4a7f-96b5-ae16e7842897",
   "metadata": {},
   "outputs": [
    {
     "name": "stdout",
     "output_type": "stream",
     "text": [
      "313/313 [==============================] - 8s 25ms/step - loss: 0.0044 - accuracy: 0.9987\n",
      "Accuracy: 99.87%\n"
     ]
    }
   ],
   "source": [
    "print(\"Accuracy: {:.2f}%\".format(model.evaluate(np.array(X_test), np.array(Y_test))[1]*100))"
   ]
  }
 ],
 "metadata": {
  "kernelspec": {
   "display_name": "Python 3 (ipykernel)",
   "language": "python",
   "name": "python3"
  },
  "language_info": {
   "codemirror_mode": {
    "name": "ipython",
    "version": 3
   },
   "file_extension": ".py",
   "mimetype": "text/x-python",
   "name": "python",
   "nbconvert_exporter": "python",
   "pygments_lexer": "ipython3",
   "version": "3.9.12"
  }
 },
 "nbformat": 4,
 "nbformat_minor": 5
}
